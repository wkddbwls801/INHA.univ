{
 "cells": [
  {
   "cell_type": "code",
   "execution_count": null,
   "metadata": {},
   "outputs": [],
   "source": [
    "import pandas as pd\n",
    "import numpy as np\n",
    "from pandas import Series, DataFrame\n",
    "\n",
    "#2번 문제\n",
    "\n",
    "# 영화 정보\n",
    "movies_data = pd.read_csv('E:/#개인공부/crawling/m1-100k/u.item', sep=\"|\", names=['movie id', 'movie title', 'release date', 'video release date', 'IMDb URL', 'unknown', 'Action', 'Adventure', 'Animation', \"Children's\", 'Comedy', 'Crime', 'Documentary', 'Drama', 'Fantasy', 'Film-Noir', 'Horror', 'Musical', 'Mystery', 'Romance', 'Sci-Fi', 'Thriller', 'War', 'Western'], engine='python')\n",
    "\n",
    "# 사용자 정보\n",
    "user_data = pd.read_csv('E:/#개인공부/crawling/m1-100k/u.user', sep= \"|\", names=['user id', 'age', 'gender', 'occupation', 'zip code'])\n",
    "\n",
    "# 평점 정보\n",
    "rating_data = pd.read_csv('E:/#개인공부/crawling/m1-100k/u.data', sep=\"\\t\", names=['user id', 'movie id', 'rating', 'timestamp'])\n",
    "\n",
    "# 사용자의 직업 리스트\n",
    "user_occupation_data = pd.read_csv('E:/#개인공부/crawling/m1-100k/u.occupation', names=['occupation'])\n",
    "\n",
    "# 영화 정보 = 영화 id, 영화 title => 2차원 배열\n",
    "movies_df = movies_data[['movie id', 'movie title']]\n",
    "\n",
    "# 사용자 별 평점\n",
    "user_dataframe = pd.merge(user_data, rating_data, how='outer', on='user id').drop(['age','zip code','timestamp'], axis='columns')\n",
    "\n",
    "# 사용자 별 영화 평점 정보 - 사용자 id, 성별, 직업, 영화 id, 평점, 영화 제목\n",
    "user_in_movie_dataframe = pd.merge(user_dataframe, movies_df, how='outer', on='movie id')\n",
    "\n",
    "###############################\n",
    "\n",
    "\n",
    "\n"
   ]
  },
  {
   "cell_type": "code",
   "execution_count": null,
   "metadata": {},
   "outputs": [],
   "source": [
    "# 사용자 별 평점\n",
    "\n",
    "rating_by_user = movies_df['movie title'][user_in_movie_dataframe['rating'].groupby(user_in_movie_dataframe['movie id']).size().sort_values(ascending=False)[:100].index-1]\n",
    "\n",
    "arr = np.array([])\n",
    "\n",
    "for n in rating_by_user:\n",
    "    arr = np.append(arr, n)\n",
    "\n",
    "dic = {'title' : arr}\n",
    "result = pd.DataFrame(dic, index=range(1, 101))\n",
    "result.index.name='rank'\n",
    "\n",
    "result\n"
   ]
  },
  {
   "cell_type": "code",
   "execution_count": null,
   "metadata": {},
   "outputs": [],
   "source": [
    "# 사용자 성별 별 평점\n",
    "movie_by_man = user_in_movie_dataframe[user_in_movie_dataframe['gender'] == 'M']\n",
    "movie_by_woman = user_in_movie_dataframe[user_in_movie_dataframe['gender'] == 'F']\n",
    "\n",
    "rating_by_man = movies_df['movie title'][movie_by_man['rating'].groupby(movie_by_man['movie id']).size().sort_values(ascending=False)[:100].index-1]\n",
    "rating_by_woman = movies_df['movie title'][movie_by_woman['rating'].groupby(movie_by_woman['movie id']).size().sort_values(ascending=False)[:100].index-1]\n",
    "\n",
    "arr_man = np.array([])\n",
    "arr_woman = np.array([])\n",
    "\n",
    "for n in rating_by_man:\n",
    "    arr_man = np.append(arr_man, n)\n",
    "\n",
    "for n in rating_by_woman:\n",
    "    arr_woman = np.append(arr_woman, n)\n",
    "    \n",
    "dic = {'man' : arr_man, 'woman' : arr_woman}\n",
    "\n",
    "result = pd.DataFrame(dic, index = range(1, 101))\n",
    "result.index.name='rank'\n",
    "result"
   ]
  },
  {
   "cell_type": "code",
   "execution_count": null,
   "metadata": {},
   "outputs": [],
   "source": [
    "# 사용자 직업 별 평점\n",
    "#occupation_len = user_occupation_data['occupation'].values.size\n",
    "\n",
    "dic={}\n",
    "\n",
    "for job in user_occupation_data['occupation'].values:\n",
    "    movie_by_occupation = user_in_movie_dataframe[user_in_movie_dataframe['occupation'] == job]\n",
    "    \n",
    "    rating_by_occupation = movies_df['movie title'][movie_by_occupation['rating'].groupby(movie_by_occupation['movie id']).size().sort_values(ascending=False)[:100].index-1]\n",
    "    \n",
    "    arr_occupation = np.array([])\n",
    "    \n",
    "    for n in rating_by_occupation:\n",
    "        arr_occupation = np.append(arr_occupation, n)\n",
    "        \n",
    "    dic[job] = arr_occupation\n",
    "\n",
    "result = pd.DataFrame(dic, index = range(1, 101))\n",
    "result.index.name='rank'\n",
    "result"
   ]
  },
  {
   "cell_type": "code",
   "execution_count": null,
   "metadata": {},
   "outputs": [],
   "source": [
    "# 사용자 별 평균 평점\n",
    "rating_by_user = movies_df['movie title'][user_in_movie_dataframe['rating'].groupby(user_in_movie_dataframe['movie id']).mean().sort_values(ascending=False)[:100].index-1]\n",
    "\n",
    "arr = np.array([])\n",
    "\n",
    "for n in rating_by_user:\n",
    "    arr = np.append(arr, n)\n",
    "\n",
    "dic = {'title' : arr}\n",
    "result = pd.DataFrame(dic, index=range(1, 101))\n",
    "result.index.name='rank'\n",
    "\n",
    "result"
   ]
  },
  {
   "cell_type": "code",
   "execution_count": null,
   "metadata": {},
   "outputs": [],
   "source": [
    "# 사용자 성별 별 평균 평점\n",
    "movie_by_man = user_in_movie_dataframe[user_in_movie_dataframe['gender'] == 'M']\n",
    "movie_by_woman = user_in_movie_dataframe[user_in_movie_dataframe['gender'] == 'F']\n",
    "\n",
    "rating_by_man = movies_df['movie title'][movie_by_man['rating'].groupby(movie_by_man['movie id']).mean().sort_values(ascending=False)[:100].index-1]\n",
    "rating_by_woman = movies_df['movie title'][movie_by_woman['rating'].groupby(movie_by_woman['movie id']).mean().sort_values(ascending=False)[:100].index-1]\n",
    "\n",
    "arr_man = np.array([])\n",
    "arr_woman = np.array([])\n",
    "\n",
    "for n in rating_by_man:\n",
    "    arr_man = np.append(arr_man, n)\n",
    "\n",
    "for n in rating_by_woman:\n",
    "    arr_woman = np.append(arr_woman, n)\n",
    "    \n",
    "dic = {'man' : arr_man, 'woman' : arr_woman}\n",
    "\n",
    "result = pd.DataFrame(dic, index = range(1, 101))\n",
    "result.index.name='rank'\n",
    "result"
   ]
  },
  {
   "cell_type": "code",
   "execution_count": null,
   "metadata": {},
   "outputs": [],
   "source": [
    "# 사용자 직업 별 평균 평점\n",
    "#occupation_len = user_occupation_data['occupation'].values.size\n",
    "\n",
    "dic={}\n",
    "\n",
    "for job in user_occupation_data['occupation'].values:\n",
    "    movie_by_occupation = user_in_movie_dataframe[user_in_movie_dataframe['occupation'] == job]\n",
    "    \n",
    "    rating_by_occupation = movies_df['movie title'][movie_by_occupation['rating'].groupby(movie_by_occupation['movie id']).mean().sort_values(ascending=False)[:100].index-1]\n",
    "    \n",
    "    arr_occupation = np.array([])\n",
    "    \n",
    "    for n in rating_by_occupation:\n",
    "        arr_occupation = np.append(arr_occupation, n)\n",
    "        \n",
    "    dic[job] = arr_occupation\n",
    "\n",
    "result = pd.DataFrame(dic, index = range(1, 101))\n",
    "result.index.name='rank'\n",
    "result"
   ]
  },
  {
   "cell_type": "code",
   "execution_count": null,
   "metadata": {},
   "outputs": [],
   "source": [
    "# 영화 장르\n"
   ]
  },
  {
   "cell_type": "code",
   "execution_count": null,
   "metadata": {},
   "outputs": [],
   "source": [
    "# 모든 사용자에 대한 장르별 평점 계산 -> 내림차순 즉, 평점이 큰 순서대로\n",
    "\n",
    "dic={}\n",
    "\n",
    "for g in movie_genre['genre'].values:\n",
    "    dic[g] = "
   ]
  },
  {
   "cell_type": "markdown",
   "metadata": {},
   "source": []
  }
 ],
 "metadata": {
  "interpreter": {
   "hash": "366de5e5b06ea82d45dea80162a48d5c99b98016d390c4aaa456d6997595ab6f"
  },
  "kernelspec": {
   "display_name": "Python 3.8.5 32-bit",
   "language": "python",
   "name": "python3"
  },
  "language_info": {
   "codemirror_mode": {
    "name": "ipython",
    "version": 3
   },
   "file_extension": ".py",
   "mimetype": "text/x-python",
   "name": "python",
   "nbconvert_exporter": "python",
   "pygments_lexer": "ipython3",
   "version": "3.8.5"
  },
  "orig_nbformat": 4
 },
 "nbformat": 4,
 "nbformat_minor": 2
}
